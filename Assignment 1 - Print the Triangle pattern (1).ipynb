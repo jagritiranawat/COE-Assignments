{
 "cells": [
  {
   "cell_type": "markdown",
   "id": "3033d57e-4ab4-4f16-ada4-71b1570f361b",
   "metadata": {},
   "source": [
    "## Assignment 1 - Print the Triangle pattern"
   ]
  },
  {
   "cell_type": "markdown",
   "id": "71560ce8-73a5-41c7-844d-9b8a04d268c9",
   "metadata": {},
   "source": [
    "### Print the Triangle pattern\n",
    "### * * * * * * * * * * * * * * *"
   ]
  },
  {
   "cell_type": "code",
   "execution_count": 8,
   "id": "a7af1347-5f07-4642-becc-2de91d5a5d93",
   "metadata": {},
   "outputs": [
    {
     "name": "stdout",
     "output_type": "stream",
     "text": [
      "              * \n",
      "             * * \n",
      "            * * * \n",
      "           * * * * \n",
      "          * * * * * \n",
      "         * * * * * * \n",
      "        * * * * * * * \n",
      "       * * * * * * * * \n",
      "      * * * * * * * * * \n",
      "     * * * * * * * * * * \n",
      "    * * * * * * * * * * * \n",
      "   * * * * * * * * * * * * \n",
      "  * * * * * * * * * * * * * \n",
      " * * * * * * * * * * * * * * \n",
      "* * * * * * * * * * * * * * * \n"
     ]
    }
   ],
   "source": [
    "def print_triangle(rows):\n",
    "    for i in range(1, rows + 1):\n",
    "        print(' ' * (rows - i) + '* ' * i)\n",
    "\n",
    "# Set the number of rows\n",
    "rows = print_triangle(rows)\n"
   ]
  },
  {
   "cell_type": "code",
   "execution_count": null,
   "id": "acb10991-324e-4ad0-8983-d044387a7744",
   "metadata": {},
   "outputs": [],
   "source": []
  }
 ],
 "metadata": {
  "kernelspec": {
   "display_name": "Python 3 (ipykernel)",
   "language": "python",
   "name": "python3"
  },
  "language_info": {
   "codemirror_mode": {
    "name": "ipython",
    "version": 3
   },
   "file_extension": ".py",
   "mimetype": "text/x-python",
   "name": "python",
   "nbconvert_exporter": "python",
   "pygments_lexer": "ipython3",
   "version": "3.11.7"
  }
 },
 "nbformat": 4,
 "nbformat_minor": 5
}
