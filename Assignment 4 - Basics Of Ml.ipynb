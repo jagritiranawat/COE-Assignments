{
 "cells": [
  {
   "cell_type": "markdown",
   "id": "bd265283-4320-4458-bb7d-3961ed54e5a7",
   "metadata": {},
   "source": [
    "### Apply Bayes' Theorem to solve a medical diagnosis problem given conditional probabilities.Find the eigenvalues and corresponding eigenvectors of a given matrix.Calculate the determinant of a 3x3 matrix and find its inverse if possible.Describe the properties and applications of the Normal distribution and calculate probabilities using its properties"
   ]
  },
  {
   "cell_type": "markdown",
   "id": "eecb35cc-c711-496b-952d-b19218c15e32",
   "metadata": {},
   "source": [
    "Here I'll use a hypothetical example where we want to determine the probability that a person has diabetes given that they tested positive.\n",
    "Bayes' Theorem is stated as:\n",
    "P(D∣T)= P(T∣D)⋅P(D)+P(T∣¬D)⋅P(¬D)/P(T∣D)⋅P(D)\n",
    "​\n",
    "\n",
    "​Where:\n",
    "\n",
    "P(D∣T): Probability that the person has diabetes given a positive test result (posterior probability).\n",
    "\n",
    "P(T∣D): Probability that the test is positive given that the person has diabetes (sensitivity or true positive rate).\n",
    "\n",
    "P(D): Probability that a randomly selected person has diabetes (prior probability).\n",
    "\n",
    "P(¬D): Probability that a randomly selected person does not have diabetes (1 - prior probability).\n",
    "\n",
    "P(T∣¬D): Probability that the test is positive given that the person does not have diabetes (false positive rate).\n",
    " \n",
    "Example:\n",
    "\n",
    "P(D)=0.10: 10% of the population has diabetes.\n",
    "\n",
    "P(T∣D)=0.90: If a person has diabetes, there’s a 90% chance the test will be positive.\n",
    "\n",
    "P(T∣¬D)=0.05: If a person does not have diabetes, there’s a 5% chance the test will still be positive.\n",
    "\n",
    "P(¬D)=0.90: 90% of the population does not have diabetes.\n",
    "\n",
    "Using these values, we can calculate the probability that a person has diabetes given a positive test result.\n"
   ]
  },
  {
   "cell_type": "code",
   "execution_count": 4,
   "id": "3995e60e-2945-4f99-96a3-da59342cb43e",
   "metadata": {},
   "outputs": [
    {
     "name": "stdout",
     "output_type": "stream",
     "text": [
      "The probability that a person has diabetes given a positive test result is: 66.67%\n"
     ]
    }
   ],
   "source": [
    "P_D = 0.10       # Prior probability of having diabetes\n",
    "P_not_D = 1 - P_D # Prior probability of not having diabetes\n",
    "\n",
    "P_T_given_D = 0.90  # Probability of testing positive given diabetes (sensitivity)\n",
    "P_T_given_not_D = 0.05  # Probability of testing positive given no diabetes (false positive rate)\n",
    "\n",
    "# Applying Bayes' Theorem\n",
    "P_D_given_T = (P_T_given_D * P_D) / ((P_T_given_D * P_D) + (P_T_given_not_D * P_not_D))\n",
    "\n",
    "\n",
    "print(f\"The probability that a person has diabetes given a positive test result is: {P_D_given_T:.2%}\")\n"
   ]
  },
  {
   "cell_type": "markdown",
   "id": "113439bb-2e64-4454-a271-b49867bbdc0d",
   "metadata": {},
   "source": [
    "Eigenvalues and Eigenvectors\n",
    "Given a square matrix 𝐴, an eigenvalue \n",
    "𝜆 and an associated eigenvector \n",
    "𝑣 satisfy the equation: Av=λv\n",
    "This equation can be rewritten as: (A−λI)v=0\n",
    "Where:\n",
    "\n",
    "𝐴is the square matrix.\n",
    "𝜆 is the eigenvalue.\n",
    "𝑣 is the eigenvector associated with the eigenvalue 𝜆.\n",
    "𝐼 is the identity matrix of the same dimension as 𝐴.\n",
    "To find the eigenvalues, we solve the characteristic equation:\n",
    "\n",
    "\n",
    "det(A−λI)=0\n",
    "Once the eigenvalues 𝜆 are found, we substitute each back into the equation (A−λI)v=0 to solve for the eigenvectors 𝑣.\n",
    "\n",
    "\n",
    "  \n",
    "​\n",
    "Example:\n",
    "Let's consider the matrix:\n",
    "\n",
    "\n"
   ]
  },
  {
   "cell_type": "code",
   "execution_count": 23,
   "id": "d804f974-44dd-4761-b496-36d6e60543f1",
   "metadata": {},
   "outputs": [
    {
     "name": "stdout",
     "output_type": "stream",
     "text": [
      "Eigenvalues:\n",
      "[16.01789412  2.30685995 -0.32475407]\n",
      "\n",
      "Eigenvectors:\n",
      "[[-0.41131305 -0.96297319 -0.66712795]\n",
      " [-0.54081519  0.01556299 -0.48863069]\n",
      " [-0.73371691  0.26914758  0.56229916]]\n"
     ]
    }
   ],
   "source": [
    "import numpy as np\n",
    "\n",
    "# Define the matrix A\n",
    "A = np.array([[4, 1, 6],\n",
    "              [2, 5, 7],\n",
    "              [2, 8, 9]])\n",
    "\n",
    "# Calculate the eigenvalues and eigenvectors\n",
    "eigenvalues, eigenvectors = np.linalg.eig(A)\n",
    "\n",
    "\n",
    "print(\"Eigenvalues:\")\n",
    "print(eigenvalues)\n",
    "\n",
    "print(\"\\nEigenvectors:\")\n",
    "print(eigenvectors)"
   ]
  },
  {
   "cell_type": "markdown",
   "id": "a19b1cb2-e951-4bf9-bdcc-9f049f8f2846",
   "metadata": {},
   "source": [
    "Let's calculate the determinant of a 3x3 matrix and, if the determinant is non-zero, find the inverse of the matrix. I'll walk through the steps and provide the Python code to do this."
   ]
  },
  {
   "cell_type": "code",
   "execution_count": 14,
   "id": "98bca799-5394-4c3a-bfc0-40f565007fe4",
   "metadata": {},
   "outputs": [
    {
     "name": "stdout",
     "output_type": "stream",
     "text": [
      "Determinant of A: 8.00\n",
      "\n",
      "Inverse of A:\n",
      "[[-1.625  4.25   3.   ]\n",
      " [ 0.125 -0.25   0.   ]\n",
      " [ 0.625 -1.25  -1.   ]]\n"
     ]
    }
   ],
   "source": [
    "import numpy as np\n",
    "\n",
    "# Define the matrix A\n",
    "A = np.array([[2, 4, 6],\n",
    "              [1, -2, 3],\n",
    "              [0, 5, -1]])\n",
    "\n",
    "# Calculate the determinant\n",
    "det_A = np.linalg.det(A)\n",
    "\n",
    "# Display the determinant\n",
    "print(f\"Determinant of A: {det_A:.2f}\")\n",
    "\n",
    "# Check if the determinant is non-zero\n",
    "if det_A != 0:\n",
    "    # Calculate the inverse\n",
    "    A_inv = np.linalg.inv(A)\n",
    "    print(\"\\nInverse of A:\")\n",
    "    print(A_inv)\n",
    "else:\n",
    "    print(\"\\nThe matrix is singular and does not have an inverse.\")\n"
   ]
  },
  {
   "cell_type": "markdown",
   "id": "5fe70699-d951-47ed-9419-f631196cc4a1",
   "metadata": {},
   "source": [
    "Properties of the Normal Distribution\n",
    "The Normal distribution, also known as the Gaussian distribution, is a continuous probability distribution that is widely used in statistics. Here are the key properties:\n",
    "\n",
    "Symmetry:\n",
    "\n",
    "The Normal distribution is symmetric about its mean μ. This means that the left side of the distribution is a mirror image of the right side.\n",
    "Bell-Shaped Curve:\n",
    "\n",
    "The probability density function (PDF) of a Normal distribution forms a bell-shaped curve. The highest point on the curve corresponds to the mean μ.\n",
    "Mean, Median, and Mode:\n",
    "\n",
    "In a Normal distribution, the mean, median, and mode are all equal and located at the center of the distribution.\n",
    "Standard Deviation:\n",
    "\n",
    "The standard deviation σ determines the spread of the distribution. A smaller 𝜎 results in a steeper curve, while a larger 𝜎results in a flatter curve.\n",
    "68-95-99.7 Rule (Empirical Rule):\n",
    "\n",
    "About 68% of the data falls within one standard deviation (μ±σ) of the mean.\n",
    "About 95% of the data falls within two standard deviations (μ±2σ) of the mean.\n",
    "About 99.7% of the data falls within three standard deviations (μ±3σ) of the mean.\n",
    "Asymptotic:\n",
    "\n",
    "The tails of the Normal distribution extend infinitely in both directions and approach, but never touch, the horizontal axis.\n",
    "Defined by Mean and Standard Deviation:\n",
    "\n",
    "A Normal distribution is completely defined by its mean 𝜇 and standard deviation σ.\n",
    "Applications of the Normal Distribution\n",
    "The Normal distribution has numerous applications across various fields:\n",
    "\n",
    "Statistical Inference:\n",
    "\n",
    "Many statistical tests, such as t-tests and ANOVA, are based on the assumption that the data follows a Normal distribution.\n",
    "Central Limit Theorem:\n",
    "\n",
    "The Central Limit Theorem states that the distribution of the sum (or average) of a large number of independent, identically distributed random variables tends to follow a Normal distribution, regardless of the original distribution of the variables.\n",
    "Quality Control:\n",
    "\n",
    "In manufacturing, the Normal distribution is used in quality control processes to monitor whether products meet certain specifications.\n",
    "Finance:\n",
    "\n",
    "Asset returns are often modeled using the Normal distribution. Many financial models, such as the Black-Scholes option pricing model, assume that returns are normally distributed.\n",
    "Natural Phenomena:\n",
    "\n",
    "Many natural phenomena, such as heights, weights, and IQ scores, tend to follow a Normal distribution."
   ]
  },
  {
   "cell_type": "markdown",
   "id": "aa554799-7c0e-4896-a196-3cf8cce773d7",
   "metadata": {},
   "source": [
    "Calculating Probabilities Using the Normal Distribution\n",
    "Let's calculate some probabilities using the properties of the Normal distribution.\n",
    "\n",
    "Example:\n",
    "Suppose the weights of a certain population follow a Normal distribution with a mean μ=70 kg and a standard deviation σ=10 kg. We want to calculate the following probabilities:\n",
    "\n",
    "P(X < 80): The probability that a randomly selected person weighs less than 80 kg.\n",
    "P(60 < X < 90): The probability that a randomly selected person weighs between 60 kg and 90 kg."
   ]
  },
  {
   "cell_type": "code",
   "execution_count": 18,
   "id": "6cb521cb-129b-4212-9489-5b428562a9b7",
   "metadata": {},
   "outputs": [
    {
     "name": "stdout",
     "output_type": "stream",
     "text": [
      "P(X < 80): 0.8413\n",
      "P(60 < X < 90): 0.8186\n"
     ]
    }
   ],
   "source": [
    "import scipy.stats as stats\n",
    "\n",
    "s\n",
    "mu = 70  # mean\n",
    "sigma = 10  \n",
    "\n",
    "# 1. P(X < 80)\n",
    "prob_less_than_80 = stats.norm.cdf(80, mu, sigma)\n",
    "print(f\"P(X < 80): {prob_less_than_80:.4f}\")\n",
    "\n",
    "# 2. P(60 < X < 90)\n",
    "prob_between_60_and_90 = stats.norm.cdf(90, mu, sigma) - stats.norm.cdf(60, mu, sigma)\n",
    "print(f\"P(60 < X < 90): {prob_between_60_and_90:.4f}\")\n"
   ]
  },
  {
   "cell_type": "code",
   "execution_count": null,
   "id": "b69ab745-9f6c-4b41-8d32-314d2a1acb2f",
   "metadata": {},
   "outputs": [],
   "source": []
  }
 ],
 "metadata": {
  "kernelspec": {
   "display_name": "Python 3 (ipykernel)",
   "language": "python",
   "name": "python3"
  },
  "language_info": {
   "codemirror_mode": {
    "name": "ipython",
    "version": 3
   },
   "file_extension": ".py",
   "mimetype": "text/x-python",
   "name": "python",
   "nbconvert_exporter": "python",
   "pygments_lexer": "ipython3",
   "version": "3.11.7"
  }
 },
 "nbformat": 4,
 "nbformat_minor": 5
}
