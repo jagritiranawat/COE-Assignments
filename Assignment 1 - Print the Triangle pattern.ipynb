{
 "cells": [
  {
   "cell_type": "markdown",
   "id": "3033d57e-4ab4-4f16-ada4-71b1570f361b",
   "metadata": {},
   "source": [
    "## Assignment 1 - Print the Triangle pattern"
   ]
  },
  {
   "cell_type": "markdown",
   "id": "71560ce8-73a5-41c7-844d-9b8a04d268c9",
   "metadata": {},
   "source": [
    "### Print the Triangle pattern\n",
    "### * * * * * * * * * * * * * * *"
   ]
  },
  {
   "cell_type": "code",
   "execution_count": 19,
   "id": "a7af1347-5f07-4642-becc-2de91d5a5d93",
   "metadata": {},
   "outputs": [
    {
     "name": "stdout",
     "output_type": "stream",
     "text": [
      "    * \n",
      "   * * \n",
      "  * * * \n",
      " * * * * \n",
      "* * * * * \n"
     ]
    }
   ],
   "source": [
    "# The question simply stated to \"Print the Triangle pattern\"\n",
    "# * * * * * * * * * * * * * * *\n",
    "# Since the exact shape wasn't defined, I decided to create\n",
    "# a centered triangular,a lower triangular and an upper triangular pattern using asterisks.\n",
    "\n",
    "\n",
    "# A centered triangular\n",
    "# Here, I defined a function to print a centered triangle pattern\n",
    "def print_triangle(rows):\n",
    "    # I'm using a loop to go through each row from 1 to the total number of rows\n",
    "    for i in range(1, rows + 1):\n",
    "        # For each row, I print spaces first to center the asterisks\n",
    "        # The number of spaces decreases as the row number increases\n",
    "        print(' ' * (rows - i) + '* ' * i)\n",
    "\n",
    "# Here, I set the number of rows for the triangle and can also adjust this number to make a bigger or smaller triangle\n",
    "# In question 15 asterisks were given So, I chose 5 rows to print the 15 asterisk in triangle pattern.\n",
    "rows = 5\n",
    "# Here, I call the function to print the triangle \n",
    "print_triangle(rows)\n"
   ]
  },
  {
   "cell_type": "code",
   "execution_count": 26,
   "id": "acb10991-324e-4ad0-8983-d044387a7744",
   "metadata": {},
   "outputs": [
    {
     "name": "stdout",
     "output_type": "stream",
     "text": [
      "* \n",
      "* * \n",
      "* * * \n",
      "* * * * \n",
      "* * * * * \n"
     ]
    }
   ],
   "source": [
    "# lower triangular\n",
    "\n",
    "# Here, I define a function to print a lower triangular pattern\n",
    "def print_lower_triangle(rows):\n",
    "    # I'm using a loop to go through each row from 1 to the total number of rows\n",
    "    for i in range(1, rows + 1):\n",
    "       # For each row, I print the \"*\" character i times\n",
    "        print('* ' * i)\n",
    "# Here, I set the number of rows for the triangle and can also adjust this number to make a bigger or smaller triangle\n",
    "rows = 5\n",
    "# Here, I call the function to print the triangle \n",
    "print_lower_triangle(rows)"
   ]
  },
  {
   "cell_type": "code",
   "execution_count": 28,
   "id": "c977653b-a43d-413e-b115-8419645fcfc5",
   "metadata": {},
   "outputs": [
    {
     "name": "stdout",
     "output_type": "stream",
     "text": [
      "* * * * * \n",
      "* * * * \n",
      "* * * \n",
      "* * \n",
      "* \n"
     ]
    }
   ],
   "source": [
    "# Upper triangular\n",
    "\n",
    "# Here, I define a function to print an upper triangular pattern\n",
    "def print_upper_triangle(rows):\n",
    "     # I'm using a loop to go through each row from 1 to the total number of rows\n",
    "    for i in range(rows, 0, -1):\n",
    "        # For each row, I print the \"*\" character i times\n",
    "        print('* ' * i)\n",
    "# Here, I set the number of rows for the triangle and can also adjust this number to make a bigger or smaller triangle\n",
    "rows = 5\n",
    "# Here, I call the function to print the triangle \n",
    "print_upper_triangle(rows)"
   ]
  },
  {
   "cell_type": "code",
   "execution_count": null,
   "id": "00d737a1-d8e7-41c1-ac23-b1237c4b5438",
   "metadata": {},
   "outputs": [],
   "source": []
  }
 ],
 "metadata": {
  "kernelspec": {
   "display_name": "Python 3 (ipykernel)",
   "language": "python",
   "name": "python3"
  },
  "language_info": {
   "codemirror_mode": {
    "name": "ipython",
    "version": 3
   },
   "file_extension": ".py",
   "mimetype": "text/x-python",
   "name": "python",
   "nbconvert_exporter": "python",
   "pygments_lexer": "ipython3",
   "version": "3.11.7"
  }
 },
 "nbformat": 4,
 "nbformat_minor": 5
}
